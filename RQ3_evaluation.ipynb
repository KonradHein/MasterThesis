{
 "cells": [
  {
   "cell_type": "code",
   "execution_count": null,
   "id": "4779247b-8731-45bb-821c-3a99e85d75ec",
   "metadata": {},
   "outputs": [],
   "source": [
    "import numpy as np\n",
    "import pandas as pd"
   ]
  },
  {
   "cell_type": "code",
   "execution_count": null,
   "id": "0d9c31c0-b3dc-411c-ad2f-ab9820e7da74",
   "metadata": {},
   "outputs": [],
   "source": [
    "df_results_lstm = pd.read_pickle('RQ3_LSTM_docu/df_results_RQ3_LSTM')"
   ]
  },
  {
   "cell_type": "code",
   "execution_count": null,
   "id": "18d6b610-985f-47e6-b7f8-d4c2e9bf4852",
   "metadata": {},
   "outputs": [],
   "source": [
    "for l in [5, 10, 20]:\n",
    "    for n in [64, 128, 256]:\n",
    "        for b in [64, 128, 256]:\n",
    "            score = df_results_lstm['valRMSE_l{}_n{}_b{}'.format(l, n, b)].mean()\n",
    "            time = df_results_lstm['time_l{}_n{}_b{}'.format(l, n, b)].mean()\n",
    "            print('L: {}, N: {}, B: {} \\t RMSE: {} \\t Time: {}'.format(l, n, b, score, round(time)))"
   ]
  },
  {
   "cell_type": "code",
   "execution_count": null,
   "id": "57e680be-88a3-4be9-9f9d-a7973edc76cc",
   "metadata": {},
   "outputs": [],
   "source": [
    "print(df_results_lstm['trainRMSE_l5_n256_b64'].mean())\n",
    "print(df_results_lstm['valRMSE_l5_n256_b64'].mean())\n",
    "print(df_results_lstm['testRMSE_l5_n256_b64'].mean())\n",
    "print(df_results_lstm['testMAE_l5_n256_b64'].mean())"
   ]
  },
  {
   "cell_type": "code",
   "execution_count": null,
   "id": "ac9f6b2c-70af-41a1-971e-5e6cada6be82",
   "metadata": {},
   "outputs": [],
   "source": [
    "df_results_gru = pd.read_pickle('RQ3_GRU_docu/df_results_RQ3_GRU')"
   ]
  },
  {
   "cell_type": "code",
   "execution_count": null,
   "id": "4ec7d09a-ac64-48c8-9201-a61e2d212312",
   "metadata": {},
   "outputs": [],
   "source": [
    "for l in [5, 10, 20]:\n",
    "    for n in [64, 128, 256]:\n",
    "        for b in [64, 128, 256]:\n",
    "            score = df_results_gru['valRMSE_l{}_n{}_b{}'.format(l, n, b)].mean()\n",
    "            time = df_results_gru['time_l{}_n{}_b{}'.format(l, n, b)].mean()\n",
    "            print('L: {}, N: {}, B: {} \\t RMSE: {} \\t Time: {}'.format(l, n, b, score, round(time)))"
   ]
  },
  {
   "cell_type": "code",
   "execution_count": null,
   "id": "728f189d-ecc8-4195-852f-cf951393e2ae",
   "metadata": {},
   "outputs": [],
   "source": [
    "print(df_results_gru['trainRMSE_l20_n128_b64'].mean())\n",
    "print(df_results_gru['valRMSE_l20_n128_b64'].mean())\n",
    "print(df_results_gru['testRMSE_l20_n128_b64'].mean())\n",
    "print(df_results_gru['testMAE_l20_n128_b64'].mean())"
   ]
  }
 ],
 "metadata": {
  "kernelspec": {
   "display_name": "Python 3 (ipykernel)",
   "language": "python",
   "name": "python3"
  },
  "language_info": {
   "codemirror_mode": {
    "name": "ipython",
    "version": 3
   },
   "file_extension": ".py",
   "mimetype": "text/x-python",
   "name": "python",
   "nbconvert_exporter": "python",
   "pygments_lexer": "ipython3",
   "version": "3.8.10"
  }
 },
 "nbformat": 4,
 "nbformat_minor": 5
}
