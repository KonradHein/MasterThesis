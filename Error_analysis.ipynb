{
 "cells": [
  {
   "cell_type": "code",
   "execution_count": null,
   "id": "e47b7514-761b-4793-aa20-841d9fa9c8ef",
   "metadata": {},
   "outputs": [],
   "source": [
    "import numpy as np\n",
    "import pandas as pd\n",
    "import matplotlib.pyplot as plt\n",
    "import seaborn as sns\n",
    "from sklearn.linear_model import LinearRegression\n",
    "from scipy import stats\n",
    "NaN = np.nan"
   ]
  },
  {
   "cell_type": "code",
   "execution_count": null,
   "id": "c2e4c047-4a33-4337-93c9-c59ecc4b34c0",
   "metadata": {},
   "outputs": [],
   "source": [
    "lst_188 = [25461, 24124, 24030, 24198, 15482, 15171, 23881, 24235, 23743,  \n",
    "              25169, 23875, 15441, 24007, 25569, 23754, 24192, 24041, 15530, \n",
    "              24109, 23768, 23883, 23921, 23769, 23889, 15110, 15373, 18001,  \n",
    "              15242, 24224, 23917, 25208, 24243, 25557, 15273, 23770, 23884,\n",
    "              24350, 23926, 23893, 15044, 23961, 24227, 23935, 23737, 23906,  \n",
    "              23982, 24121, 23909, 17984, 25498, 23738, 23985, 15170, 14995, \n",
    "              15115, 15510, 24127, 25175, 25170, 15419, 24324, 24197, 25163, \n",
    "              23955, 23740, 24348, 15205, 24343, 23837, 24206, 24079, 23872,\n",
    "              23871, 15208, 23756, 15729, 23829, 25502, 15280, 24196, 23914,\n",
    "              24470, 25235, 15270, 25172, 23745, 23899, 15304, 24203, 23984,  \n",
    "              15335, 15448, 15052, 15159, 24467, 24225, 15405, 25174, 25171,  \n",
    "              24213, 23822, 23876, 24232, 25197, 23988, 14981, 23753, 25180,\n",
    "              24039, 23800, 24204, 24248, 23913, 25250, 25178, 24212, 23833, \n",
    "              15024, 25167, 15382, 10599, 24125, 23995, 15187, 25201, 25227,\n",
    "              23900, 25203, 24223, 23953, 15209, 25275, 23981, 25176, 15462,\n",
    "              24120, 23924, 15173, 23936, 24349, 23915, 15363, 15277, 24226,  \n",
    "              23878, 15258, 24081, 24207, 23919, 15445, 25189, 15484, 24612,   \n",
    "              24249, 15444, 25207, 23767, 24033, 23898, 15588, 24071, 24122,\n",
    "              24087, 25278, 25547, 24346, 24199, 25504, 25164, 24040, 23785, \n",
    "              24185, 23787, 25522, 24461, 15051, 24193, 24167, 15151, 23867,\n",
    "              24246, 15031, 15241, 24083, 23897, 23983, 24195, 23778]\n",
    "lst_104 = [14995, 15044, 15051, 15052, 15110, 15115, 15151, 15159, 15170, 15171, 15173,\n",
    "                15208, 15241, 15258, 15280, 15335, 15405, 15419, 15445, 15448, 15482, 15510,\n",
    "                15588, 15729, 18001, 23737, 23743, 23753, 23756, 23768, 23769, 23770, 23785,\n",
    "                23787, 23800, 23829, 23867, 23871, 23875, 23878, 23881, 23883, 23889, 23893,\n",
    "                23897, 23906, 23913, 23914, 23915, 23919, 23921, 23924, 23926, 23935, 23936,\n",
    "                23961, 23983, 24030, 24039, 24040, 24079, 24109, 24120, 24124, 24127, 24167,\n",
    "                24185, 24193, 24195, 24196, 24197, 24198, 24204, 24207, 24212, 24225, 24226,\n",
    "                24227, 24235, 24246, 24248, 24324, 24346, 24350, 24461, 24467, 25163, 25164,\n",
    "                25169, 25170, 25171, 25174, 25175, 25178, 25180, 25189, 25250, 25461, 25522,\n",
    "                24081, 24203, 24249, 24612, 25498]"
   ]
  },
  {
   "cell_type": "code",
   "execution_count": null,
   "id": "daabc180-83b3-406a-a03e-8740729816f3",
   "metadata": {},
   "outputs": [],
   "source": [
    "##RQ1 LSTM\n",
    "df_rq1_lstm = pd.read_pickle('RQ1_LSTM_docu/df_results_RQ1_LSTM')\n",
    "df_rq1_lstm = df_rq1_lstm[['user', 'user_length', 'testRMSE_l5_n256_b64']]\n",
    "df_rq1_lstm['low_events'] = NaN"
   ]
  },
  {
   "cell_type": "code",
   "execution_count": null,
   "id": "0a70192b-1039-49cb-9007-c188b80fa44d",
   "metadata": {},
   "outputs": [],
   "source": [
    "for i in range(len(df_rq1_lstm)):\n",
    "    user = df_rq1_lstm.loc[i, 'user']\n",
    "    print(int(user))\n",
    "    df_user = pd.read_pickle('Users_prepped/All/PerUser/{}_final'.format(int(user)))\n",
    "    lst_help = []\n",
    "    for n in df_user['remainingMin'].value_counts().keys():\n",
    "        if n < 1:\n",
    "            lst_help.append(n)\n",
    "    if len(lst_help) > 0:\n",
    "        count = df_user['remainingMin'].value_counts()[0]\n",
    "    else:\n",
    "        count = 0\n",
    "    df_rq1_lstm.loc[i, 'low_events'] = count"
   ]
  },
  {
   "cell_type": "code",
   "execution_count": null,
   "id": "566d3431-8547-4d28-a1fb-2dba9f42ba72",
   "metadata": {},
   "outputs": [],
   "source": [
    "reg = LinearRegression().fit(np.array(df_rq1_lstm['low_events']).reshape(-1, 1), np.array(df_rq1_lstm['testRMSE_l5_n256_b64']))\n",
    "print('Reg coef: \\t{}'.format(float(reg.coef_)))\n",
    "slope, intercept, r_value, p_value, std_err = stats.linregress(np.array(df_rq1_lstm['low_events']), np.array(df_rq1_lstm['testRMSE_l5_n256_b64']))\n",
    "print('Slope: \\t\\t{}'.format(slope))\n",
    "print('Intercept: \\t{}'.format(intercept))\n",
    "print('r-value: \\t{}'.format(r_value))\n",
    "print('p-value: \\t{}'.format(p_value))\n",
    "print('Std-error: \\t{}'.format(std_err))"
   ]
  },
  {
   "cell_type": "code",
   "execution_count": null,
   "id": "17474985-ba0c-44e6-b838-6d3c45c6bd11",
   "metadata": {},
   "outputs": [],
   "source": [
    "plt.scatter(df_rq1_lstm['low_events'], df_rq1_lstm['testRMSE_l5_n256_b64'])\n",
    "plt.plot(df_rq1_lstm['low_events'], reg.predict(np.array(df_rq1_lstm['low_events']).reshape(-1, 1)), color = 'darkorange')\n",
    "plt.axhline(y=0, color='k')\n",
    "plt.title('RMSE per user plotted versus the times his or her phone runs low')\n",
    "plt.xlabel('Times the phone runs low')\n",
    "plt.ylabel('RMSE', rotation = 0)\n",
    "plt.savefig('Error_Analysis/RQ1_lowevents.png', bbox_inches='tight')"
   ]
  },
  {
   "cell_type": "code",
   "execution_count": null,
   "id": "11f6b4d8-1e5f-4fba-9161-aec6be51c39a",
   "metadata": {},
   "outputs": [],
   "source": [
    "reg = LinearRegression().fit(np.array(df_rq1_lstm['user_length']).reshape(-1, 1), np.array(df_rq1_lstm['testRMSE_l5_n256_b64']))\n",
    "print('Reg coef: \\t{}'.format(float(reg.coef_)))\n",
    "slope, intercept, r_value, p_value, std_err = stats.linregress(np.array(df_rq1_lstm['user_length']), np.array(df_rq1_lstm['testRMSE_l5_n256_b64']))\n",
    "print('Slope: \\t\\t{}'.format(slope))\n",
    "print('Intercept: \\t{}'.format(intercept))\n",
    "print('r-value: \\t{}'.format(r_value))\n",
    "print('p-value: \\t{}'.format(p_value))\n",
    "print('Std-error: \\t{}'.format(std_err))"
   ]
  },
  {
   "cell_type": "code",
   "execution_count": null,
   "id": "d54e34bd-02f8-4df7-971e-bd3e53129863",
   "metadata": {},
   "outputs": [],
   "source": [
    "plt.scatter(df_rq1_lstm['user_length'], df_rq1_lstm['testRMSE_l5_n256_b64'])\n",
    "plt.plot(df_rq1_lstm['user_length'], reg.predict(np.array(df_rq1_lstm['user_length']).reshape(-1, 1)), color = 'darkorange')\n",
    "plt.axhline(y=0, color='k')\n",
    "plt.title('RMSE per user plotted versus the amount of data available')\n",
    "plt.xlabel('Observations')\n",
    "plt.ylabel('RMSE', rotation = 0)\n",
    "plt.savefig('Error_Analysis/RQ1_userlength.png', bbox_inches='tight')"
   ]
  },
  {
   "cell_type": "code",
   "execution_count": null,
   "id": "4f5dd4d8-bc72-4637-b84b-40381f4a807f",
   "metadata": {},
   "outputs": [],
   "source": [
    "##RQ1 GRU\n",
    "df_rq1_gru = pd.read_pickle('RQ1_GRU_docu/df_results_RQ1_GRU')\n",
    "df_rq1_gru = df_rq1_gru[['user', 'user_length', 'testRMSE_l20_n256_b64']]\n",
    "df_rq1_gru['low_events'] = NaN"
   ]
  },
  {
   "cell_type": "code",
   "execution_count": null,
   "id": "2f26bac5-b2f2-44eb-be0e-a974571eb7af",
   "metadata": {},
   "outputs": [],
   "source": [
    "for i in range(len(df_rq1_gru)):\n",
    "    user = df_rq1_gru.loc[i, 'user']\n",
    "    print(int(user))\n",
    "    df_user = pd.read_pickle('Users_prepped/All/PerUser/{}_final'.format(int(user)))\n",
    "    lst_help = []\n",
    "    for n in df_user['remainingMin'].value_counts().keys():\n",
    "        if n < 1:\n",
    "            lst_help.append(n)\n",
    "    if len(lst_help) > 0:\n",
    "        count = df_user['remainingMin'].value_counts()[0]\n",
    "    else:\n",
    "        count = 0\n",
    "    df_rq1_gru.loc[i, 'low_events'] = count"
   ]
  },
  {
   "cell_type": "code",
   "execution_count": null,
   "id": "56af38e5-7b96-40bf-9969-812e7d2594f0",
   "metadata": {},
   "outputs": [],
   "source": [
    "reg = LinearRegression().fit(np.array(df_rq1_gru['low_events']).reshape(-1, 1), np.array(df_rq1_gru['testRMSE_l20_n256_b64']))\n",
    "print('Reg coef: \\t{}'.format(float(reg.coef_)))\n",
    "slope, intercept, r_value, p_value, std_err = stats.linregress(np.array(df_rq1_gru['low_events']), np.array(df_rq1_gru['testRMSE_l5_n256_b64']))\n",
    "print('Slope: \\t\\t{}'.format(slope))\n",
    "print('Intercept: \\t{}'.format(intercept))\n",
    "print('r-value: \\t{}'.format(r_value))\n",
    "print('p-value: \\t{}'.format(p_value))\n",
    "print('Std-error: \\t{}'.format(std_err))"
   ]
  },
  {
   "cell_type": "code",
   "execution_count": null,
   "id": "15484d94-7003-4324-a343-4dee4c3e6387",
   "metadata": {},
   "outputs": [],
   "source": [
    "plt.scatter(df_rq1_gru['low_events'], df_rq1_gru['testRMSE_l20_n256_b64'])\n",
    "plt.plot(df_rq1_gru['low_events'], reg.predict(np.array(df_rq1_gru['low_events']).reshape(-1, 1)), color = 'darkorange')\n",
    "plt.axhline(y=0, color='k')\n",
    "plt.title('RMSE per user plotted versus the times his or her phone runs low')\n",
    "plt.xlabel('Times the phone runs low')\n",
    "plt.ylabel('RMSE', rotation = 0)\n",
    "plt.savefig('Error_Analysis/RQ1_lowevents.png', bbox_inches='tight')"
   ]
  },
  {
   "cell_type": "code",
   "execution_count": null,
   "id": "927dc7b1-8dc3-4f46-b1b9-39a23d134711",
   "metadata": {},
   "outputs": [],
   "source": [
    "reg = LinearRegression().fit(np.array(df_rq1_gru['user_length']).reshape(-1, 1), np.array(df_rq1_gru['testRMSE_l20_n256_b64']))\n",
    "print('Reg coef: \\t{}'.format(float(reg.coef_)))\n",
    "slope, intercept, r_value, p_value, std_err = stats.linregress(np.array(df_rq1_gru['user_length']), np.array(df_rq1_gru['testRMSE_l5_n256_b64']))\n",
    "print('Slope: \\t\\t{}'.format(slope))\n",
    "print('Intercept: \\t{}'.format(intercept))\n",
    "print('r-value: \\t{}'.format(r_value))\n",
    "print('p-value: \\t{}'.format(p_value))\n",
    "print('Std-error: \\t{}'.format(std_err))"
   ]
  },
  {
   "cell_type": "code",
   "execution_count": null,
   "id": "2bbd6f49-d43e-4adb-94cb-35662187cdf3",
   "metadata": {},
   "outputs": [],
   "source": [
    "plt.scatter(df_rq1_gru['user_length'], df_rq1_gru['testRMSE_l20_n256_b64'])\n",
    "plt.plot(df_rq1_gru['user_length'], reg.predict(np.array(df_rq1_gru['user_length']).reshape(-1, 1)), color = 'darkorange')\n",
    "plt.axhline(y=0, color='k')\n",
    "plt.title('RMSE per user plotted versus the amount of data available')\n",
    "plt.xlabel('Observations')\n",
    "plt.ylabel('RMSE', rotation = 0)\n",
    "plt.savefig('Error_Analysis/RQ1_userlength.png', bbox_inches='tight')"
   ]
  },
  {
   "cell_type": "code",
   "execution_count": null,
   "id": "182b93a1-246b-4388-8a8d-74802f7bd628",
   "metadata": {},
   "outputs": [],
   "source": [
    "##RQ3 LSTM\n",
    "df_rq3_lstm = pd.read_pickle('RQ_New_Prep/RQnew_docu/all_df_results_RQnew')\n",
    "df_rq3_lstm = df_rq3_lstm.reset_index(drop = True)\n",
    "df_rq3_lstm = df_rq3_lstm[['user', 'user_length', 'testRMSE_l5_n256_b64']]\n",
    "df_rq3_lstm['low_events'] = NaN"
   ]
  },
  {
   "cell_type": "code",
   "execution_count": null,
   "id": "a0af905c-fd5c-44db-ac39-f779f6fa1a64",
   "metadata": {},
   "outputs": [],
   "source": [
    "for i in range(len(df_rq3_lstm)):\n",
    "    user = df_rq3_lstm.loc[i, 'user']\n",
    "    print(int(user))\n",
    "    df_user = pd.read_pickle('RQ_New_Prep/users/{}_onehot'.format(int(user)))\n",
    "    lst_help = []\n",
    "    for n in df_user['remainingMin'].value_counts().keys():\n",
    "        if n < 1:\n",
    "            lst_help.append(n)\n",
    "    if len(lst_help) > 0:\n",
    "        count = df_user['remainingMin'].value_counts()[0]\n",
    "    else:\n",
    "        count = 0\n",
    "    df_rq3_lstm.loc[i, 'low_events'] = count"
   ]
  },
  {
   "cell_type": "code",
   "execution_count": null,
   "id": "b3abd3c6-3dfb-4d7e-bedb-454e3ee886ca",
   "metadata": {},
   "outputs": [],
   "source": [
    "reg = LinearRegression().fit(np.array(df_rq3_lstm['low_events']).reshape(-1, 1), np.array(df_rq3_lstm['testRMSE_l5_n256_b64']))\n",
    "print('Reg coef: \\t{}'.format(float(reg.coef_)))\n",
    "slope, intercept, r_value, p_value, std_err = stats.linregress(np.array(df_rq3_lstm['low_events']), np.array(df_rq3_lstm['testRMSE_l5_n256_b64']))\n",
    "print('Slope: \\t\\t{}'.format(slope))\n",
    "print('Intercept: \\t{}'.format(intercept))\n",
    "print('r-value: \\t{}'.format(r_value))\n",
    "print('p-value: \\t{}'.format(p_value))\n",
    "print('Std-error: \\t{}'.format(std_err))"
   ]
  },
  {
   "cell_type": "code",
   "execution_count": null,
   "id": "4805e092-ab19-466e-8b12-83b6400e1354",
   "metadata": {},
   "outputs": [],
   "source": [
    "plt.scatter(df_rq3_lstm['low_events'], df_rq3_lstm['testRMSE_l5_n256_b64'])\n",
    "plt.plot(df_rq3_lstm['low_events'], reg.predict(np.array(df_rq3_lstm['low_events']).reshape(-1, 1)), color = 'darkorange')\n",
    "plt.axhline(y=0, color='k')\n",
    "plt.title('RMSE per user plotted versus the times his or her phone runs low')\n",
    "plt.xlabel('Times the phone runs low')\n",
    "plt.ylabel('RMSE', rotation = 0)\n",
    "plt.savefig('Error_Analysis/RQ3_LSTM_lowevents.png', bbox_inches='tight')"
   ]
  },
  {
   "cell_type": "code",
   "execution_count": null,
   "id": "2dc4e227-9cb0-4aa2-9e70-16c925ed72d3",
   "metadata": {},
   "outputs": [],
   "source": [
    "reg = LinearRegression().fit(np.array(df_rq3_lstm['user_length']).reshape(-1, 1), np.array(df_rq3_lstm['testRMSE_l5_n256_b64']))\n",
    "print('Reg coef: \\t{}'.format(float(reg.coef_)))\n",
    "slope, intercept, r_value, p_value, std_err = stats.linregress(np.array(df_rq3_lstm['user_length']), np.array(df_rq3_lstm['testRMSE_l5_n256_b64']))\n",
    "print('Slope: \\t\\t{}'.format(slope))\n",
    "print('Intercept: \\t{}'.format(intercept))\n",
    "print('r-value: \\t{}'.format(r_value))\n",
    "print('p-value: \\t{}'.format(p_value))\n",
    "print('Std-error: \\t{}'.format(std_err))"
   ]
  },
  {
   "cell_type": "code",
   "execution_count": null,
   "id": "e5ccaeba-8cb3-4c33-96e0-34f0e2af8f4a",
   "metadata": {},
   "outputs": [],
   "source": [
    "plt.scatter(df_rq3_lstm['user_length'], df_rq3_lstm['testRMSE_l5_n256_b64'])\n",
    "plt.plot(df_rq3_lstm['user_length'], reg.predict(np.array(df_rq3_lstm['user_length']).reshape(-1, 1)), color = 'darkorange')\n",
    "plt.axhline(y=0, color='k')\n",
    "plt.title('RMSE per user plotted versus the amount of data available')\n",
    "plt.xlabel('Observations')\n",
    "plt.ylabel('RMSE', rotation = 0)\n",
    "plt.savefig('Error_Analysis/RQ3_LSTM_userlength.png', bbox_inches='tight')"
   ]
  },
  {
   "cell_type": "code",
   "execution_count": null,
   "id": "f674a673-ddab-4751-af29-15d5696dd658",
   "metadata": {},
   "outputs": [],
   "source": []
  },
  {
   "cell_type": "code",
   "execution_count": null,
   "id": "de904825-9529-476a-829c-5d202c545de0",
   "metadata": {},
   "outputs": [],
   "source": [
    "##RQ3 GRU\n",
    "df_rq3_gru = pd.read_pickle('RQ_New_Prep/RQnew_GRU_docu/all_df_results_GRU_RQnew')\n",
    "df_rq3_gru = df_rq3_gru.reset_index(drop = True)\n",
    "df_rq3_gru = df_rq3_gru[['user', 'user_length', 'testRMSE_l5_n256_b64']]\n",
    "df_rq3_gru['low_events'] = NaN"
   ]
  },
  {
   "cell_type": "code",
   "execution_count": null,
   "id": "0618d6a0-a0ce-4af0-bfa6-d6f530feea99",
   "metadata": {},
   "outputs": [],
   "source": [
    "for i in range(len(df_rq3_gru)):\n",
    "    user = df_rq3_gru.loc[i, 'user']\n",
    "    print(int(user))\n",
    "    df_user = pd.read_pickle('RQ_New_Prep/users/{}_onehot'.format(int(user)))\n",
    "    lst_help = []\n",
    "    for n in df_user['remainingMin'].value_counts().keys():\n",
    "        if n < 1:\n",
    "            lst_help.append(n)\n",
    "    if len(lst_help) > 0:\n",
    "        count = df_user['remainingMin'].value_counts()[0]\n",
    "    else:\n",
    "        count = 0\n",
    "    df_rq3_gru.loc[i, 'low_events'] = count"
   ]
  },
  {
   "cell_type": "code",
   "execution_count": null,
   "id": "6f73f833-c350-4e6a-86fc-e38716a65327",
   "metadata": {},
   "outputs": [],
   "source": [
    "reg = LinearRegression().fit(np.array(df_rq3_gru['low_events']).reshape(-1, 1), np.array(df_rq3_gru['testRMSE_l5_n256_b64']))\n",
    "print('Reg coef: \\t{}'.format(float(reg.coef_)))\n",
    "slope, intercept, r_value, p_value, std_err = stats.linregress(np.array(df_rq3_gru['low_events']), np.array(df_rq3_gru['testRMSE_l5_n256_b64']))\n",
    "print('Slope: \\t\\t{}'.format(slope))\n",
    "print('Intercept: \\t{}'.format(intercept))\n",
    "print('r-value: \\t{}'.format(r_value))\n",
    "print('p-value: \\t{}'.format(p_value))\n",
    "print('Std-error: \\t{}'.format(std_err))"
   ]
  },
  {
   "cell_type": "code",
   "execution_count": null,
   "id": "68746c4b-4449-4519-8f8d-f078021f03b9",
   "metadata": {},
   "outputs": [],
   "source": [
    "plt.scatter(df_rq3_gru['low_events'], df_rq3_gru['testRMSE_l5_n256_b64'])\n",
    "plt.plot(df_rq3_gru['low_events'], reg.predict(np.array(df_rq3_gru['low_events']).reshape(-1, 1)), color = 'darkorange')\n",
    "plt.axhline(y=0, color='k')\n",
    "plt.title('RMSE per user plotted versus the times his or her phone runs low')\n",
    "plt.xlabel('Times the phone runs low')\n",
    "plt.ylabel('RMSE', rotation = 0)\n",
    "plt.savefig('Error_Analysis/RQ3_GRU_lowevents.png', bbox_inches='tight')"
   ]
  },
  {
   "cell_type": "code",
   "execution_count": null,
   "id": "19b8c19c-f6f1-4cd7-9646-1b042400b768",
   "metadata": {},
   "outputs": [],
   "source": [
    "reg = LinearRegression().fit(np.array(df_rq3_gru['user_length']).reshape(-1, 1), np.array(df_rq3_gru['testRMSE_l5_n256_b64']))\n",
    "print('Reg coef: \\t{}'.format(float(reg.coef_)))\n",
    "slope, intercept, r_value, p_value, std_err = stats.linregress(np.array(df_rq3_gru['user_length']), np.array(df_rq3_gru['testRMSE_l5_n256_b64']))\n",
    "print('Slope: \\t\\t{}'.format(slope))\n",
    "print('Intercept: \\t{}'.format(intercept))\n",
    "print('r-value: \\t{}'.format(r_value))\n",
    "print('p-value: \\t{}'.format(p_value))\n",
    "print('Std-error: \\t{}'.format(std_err))"
   ]
  },
  {
   "cell_type": "code",
   "execution_count": null,
   "id": "a2d05d0a-724a-4c76-9927-2f80dae1847a",
   "metadata": {},
   "outputs": [],
   "source": [
    "plt.scatter(df_rq3_gru['user_length'], df_rq3_gru['testRMSE_l5_n256_b64'])\n",
    "plt.plot(df_rq3_gru['user_length'], reg.predict(np.array(df_rq3_gru['user_length']).reshape(-1, 1)), color = 'darkorange')\n",
    "plt.axhline(y=0, color='k')\n",
    "plt.title('RMSE per user plotted versus the amount of data available')\n",
    "plt.xlabel('Observations')\n",
    "plt.ylabel('RMSE', rotation = 0)\n",
    "plt.savefig('Error_Analysis/RQ3_GRU_userlength.png', bbox_inches='tight')"
   ]
  },
  {
   "cell_type": "code",
   "execution_count": null,
   "id": "50903e9e-e491-4f08-85b2-f126da4a74aa",
   "metadata": {},
   "outputs": [],
   "source": []
  },
  {
   "cell_type": "code",
   "execution_count": null,
   "id": "3c8a23a4-b40a-460e-8346-cdfb82109265",
   "metadata": {},
   "outputs": [],
   "source": [
    "#RQ4 LSTM\n",
    "df_rq4_lstm = pd.read_pickle('RQ_New_Prep/RQ4_LSTM_docu/all_df_results_LSTM_RQ4')\n",
    "df_rq4_lstm = df_rq4_lstm.reset_index(drop = True)\n",
    "df_rq4_lstm = df_rq4_lstm[['user', 'user_length', 'testRMSE_l5_n256_b64']]\n",
    "df_rq4_lstm['low_events'] = NaN"
   ]
  },
  {
   "cell_type": "code",
   "execution_count": null,
   "id": "8ed3ef6e-a3ba-4f52-905e-ade9fb1db582",
   "metadata": {},
   "outputs": [],
   "source": [
    "for i in range(len(df_rq4_lstm)):\n",
    "    user = df_rq4_lstm.loc[i, 'user']\n",
    "    df_user = pd.read_pickle('RQ_New_Prep/users/{}_onehot'.format(int(user)))\n",
    "    lst_help = []\n",
    "    for n in df_user['remainingMin'].value_counts().keys():\n",
    "        if n < 1:\n",
    "            lst_help.append(n)\n",
    "    if len(lst_help) > 0:\n",
    "        count = df_user['remainingMin'].value_counts()[0]\n",
    "    else:\n",
    "        count = 0\n",
    "    df_rq4_lstm.loc[i, 'low_events'] = count"
   ]
  },
  {
   "cell_type": "code",
   "execution_count": null,
   "id": "c52d7916-7d6e-4316-ba58-1c798c997dde",
   "metadata": {},
   "outputs": [],
   "source": [
    "reg = LinearRegression().fit(np.array(df_rq4_lstm['low_events']).reshape(-1, 1), np.array(df_rq4_lstm['testRMSE_l5_n256_b64']))\n",
    "print('Reg coef: \\t{}'.format(float(reg.coef_)))\n",
    "slope, intercept, r_value, p_value, std_err = stats.linregress(np.array(df_rq4_lstm['low_events']), np.array(df_rq4_lstm['testRMSE_l5_n256_b64']))\n",
    "print('Slope: \\t\\t{}'.format(slope))\n",
    "print('Intercept: \\t{}'.format(intercept))\n",
    "print('r-value: \\t{}'.format(r_value))\n",
    "print('p-value: \\t{}'.format(p_value))\n",
    "print('Std-error: \\t{}'.format(std_err))"
   ]
  },
  {
   "cell_type": "code",
   "execution_count": null,
   "id": "49438294-361f-4ee7-a8ee-6392c1e61de5",
   "metadata": {},
   "outputs": [],
   "source": [
    "plt.scatter(df_rq4_lstm['low_events'], df_rq4_lstm['testRMSE_l5_n256_b64'])\n",
    "plt.plot(df_rq4_lstm['low_events'], reg.predict(np.array(df_rq4_lstm['low_events']).reshape(-1, 1)), color = 'darkorange')\n",
    "plt.axhline(y=0, color='k')\n",
    "plt.title('RMSE per user plotted versus the times his or her phone runs low')\n",
    "plt.xlabel('Times the phone runs low')\n",
    "plt.ylabel('RMSE', rotation = 0)\n",
    "plt.savefig('Error_Analysis/RQ4_GRU_lowevents.png', bbox_inches='tight')"
   ]
  },
  {
   "cell_type": "code",
   "execution_count": null,
   "id": "1b19507a-0c13-410c-a664-d1ab34dd270d",
   "metadata": {},
   "outputs": [],
   "source": [
    "reg = LinearRegression().fit(np.array(df_rq4_lstm['user_length']).reshape(-1, 1), np.array(df_rq4_lstm['testRMSE_l5_n256_b64']))\n",
    "print('Reg coef: \\t{}'.format(float(reg.coef_)))\n",
    "slope, intercept, r_value, p_value, std_err = stats.linregress(np.array(df_rq4_lstm['user_length']), np.array(df_rq4_lstm['testRMSE_l5_n256_b64']))\n",
    "print('Slope: \\t\\t{}'.format(slope))\n",
    "print('Intercept: \\t{}'.format(intercept))\n",
    "print('r-value: \\t{}'.format(r_value))\n",
    "print('p-value: \\t{}'.format(p_value))\n",
    "print('Std-error: \\t{}'.format(std_err))"
   ]
  },
  {
   "cell_type": "code",
   "execution_count": null,
   "id": "302e9491-5ce7-4f25-a8ec-0b36269fb6b9",
   "metadata": {},
   "outputs": [],
   "source": [
    "plt.scatter(df_rq4_lstm['user_length'], df_rq4_lstm['testRMSE_l5_n256_b64'])\n",
    "plt.plot(df_rq4_lstm['user_length'], reg.predict(np.array(df_rq4_lstm['user_length']).reshape(-1, 1)), color = 'darkorange')\n",
    "plt.axhline(y=0, color='k')\n",
    "plt.title('RMSE per user plotted versus the amount of data available')\n",
    "plt.xlabel('Observations')\n",
    "plt.ylabel('RMSE', rotation = 0)\n",
    "plt.savefig('Error_Analysis/RQ4_GRU_userlength.png', bbox_inches='tight')"
   ]
  },
  {
   "cell_type": "code",
   "execution_count": null,
   "id": "bf90bb55-f942-41e7-a4e1-dabf93d13642",
   "metadata": {},
   "outputs": [],
   "source": []
  },
  {
   "cell_type": "code",
   "execution_count": null,
   "id": "91cfb8a4-6f53-4cc8-a2be-aa4b149dc32f",
   "metadata": {},
   "outputs": [],
   "source": [
    "##RQ4 GRU\n",
    "df_rq4_gru = pd.read_pickle('RQ_New_Prep/RQ4_GRU_docu/all_df_results_GRU_RQ4')\n",
    "df_rq4_gru = df_rq4_gru.reset_index(drop = True)\n",
    "df_rq4_gru = df_rq4_gru[['user', 'user_length', 'testRMSE_l5_n256_b64']]\n",
    "df_rq4_gru['low_events'] = NaN"
   ]
  },
  {
   "cell_type": "code",
   "execution_count": null,
   "id": "5e120e1c-adf3-4002-ac18-9012fc43344d",
   "metadata": {},
   "outputs": [],
   "source": [
    "for i in range(len(df_rq4_gru)):\n",
    "    user = df_rq4_gru.loc[i, 'user']\n",
    "    df_user = pd.read_pickle('RQ_New_Prep/users/{}_onehot'.format(int(user)))\n",
    "    lst_help = []\n",
    "    for n in df_user['remainingMin'].value_counts().keys():\n",
    "        if n < 1:\n",
    "            lst_help.append(n)\n",
    "    if len(lst_help) > 0:\n",
    "        count = df_user['remainingMin'].value_counts()[0]\n",
    "    else:\n",
    "        count = 0\n",
    "    df_rq4_gru.loc[i, 'low_events'] = count"
   ]
  },
  {
   "cell_type": "code",
   "execution_count": null,
   "id": "cf35482c-957c-4e35-a270-d3775adbe364",
   "metadata": {},
   "outputs": [],
   "source": [
    "reg = LinearRegression().fit(np.array(df_rq4_gru['low_events']).reshape(-1, 1), np.array(df_rq4_gru['testRMSE_l5_n256_b64']))\n",
    "print('Reg coef: \\t{}'.format(float(reg.coef_)))\n",
    "slope, intercept, r_value, p_value, std_err = stats.linregress(np.array(df_rq4_gru['low_events']), np.array(df_rq4_gru['testRMSE_l5_n256_b64']))\n",
    "print('Slope: \\t\\t{}'.format(slope))\n",
    "print('Intercept: \\t{}'.format(intercept))\n",
    "print('r-value: \\t{}'.format(r_value))\n",
    "print('p-value: \\t{}'.format(p_value))\n",
    "print('Std-error: \\t{}'.format(std_err))"
   ]
  },
  {
   "cell_type": "code",
   "execution_count": null,
   "id": "edd07b7e-982f-4faa-8133-d02e3dd1dd4a",
   "metadata": {},
   "outputs": [],
   "source": [
    "plt.scatter(df_rq4_gru['low_events'], df_rq4_gru['testRMSE_l5_n256_b64'])\n",
    "plt.plot(df_rq4_gru['low_events'], reg.predict(np.array(df_rq4_gru['low_events']).reshape(-1, 1)), color = 'darkorange')\n",
    "plt.axhline(y=0, color='k')\n",
    "plt.title('RMSE per user plotted versus the times his or her phone runs low')\n",
    "plt.xlabel('Times the phone runs low')\n",
    "plt.ylabel('RMSE', rotation = 0)\n",
    "plt.savefig('Error_Analysis/RQ4_GRU_lowevents.png', bbox_inches='tight')"
   ]
  },
  {
   "cell_type": "code",
   "execution_count": null,
   "id": "7daf63f3-815b-4bc8-a607-eeb6fb835cf4",
   "metadata": {},
   "outputs": [],
   "source": [
    "reg = LinearRegression().fit(np.array(df_rq4_gru['user_length']).reshape(-1, 1), np.array(df_rq4_gru['testRMSE_l5_n256_b64']))\n",
    "print('Reg coef: \\t{}'.format(float(reg.coef_)))\n",
    "slope, intercept, r_value, p_value, std_err = stats.linregress(np.array(df_rq4_gru['user_length']), np.array(df_rq4_gru['testRMSE_l5_n256_b64']))\n",
    "print('Slope: \\t\\t{}'.format(slope))\n",
    "print('Intercept: \\t{}'.format(intercept))\n",
    "print('r-value: \\t{}'.format(r_value))\n",
    "print('p-value: \\t{}'.format(p_value))\n",
    "print('Std-error: \\t{}'.format(std_err))"
   ]
  },
  {
   "cell_type": "code",
   "execution_count": null,
   "id": "7e53eb49-f9b7-4d4d-b086-bf17294523e9",
   "metadata": {},
   "outputs": [],
   "source": [
    "plt.scatter(df_rq4_gru['user_length'], df_rq4_gru['testRMSE_l5_n256_b64'])\n",
    "plt.plot(df_rq4_gru['user_length'], reg.predict(np.array(df_rq4_gru['user_length']).reshape(-1, 1)), color = 'darkorange')\n",
    "plt.axhline(y=0, color='k')\n",
    "plt.title('RMSE per user plotted versus the amount of data available')\n",
    "plt.xlabel('Observations')\n",
    "plt.ylabel('RMSE', rotation = 0)\n",
    "plt.savefig('Error_Analysis/RQ4_GRU_userlength.png', bbox_inches='tight')"
   ]
  }
 ],
 "metadata": {
  "kernelspec": {
   "display_name": "Python 3 (ipykernel)",
   "language": "python",
   "name": "python3"
  },
  "language_info": {
   "codemirror_mode": {
    "name": "ipython",
    "version": 3
   },
   "file_extension": ".py",
   "mimetype": "text/x-python",
   "name": "python",
   "nbconvert_exporter": "python",
   "pygments_lexer": "ipython3",
   "version": "3.8.10"
  }
 },
 "nbformat": 4,
 "nbformat_minor": 5
}
