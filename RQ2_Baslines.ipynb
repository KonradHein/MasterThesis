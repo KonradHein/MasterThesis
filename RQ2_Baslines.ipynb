{
 "cells": [
  {
   "cell_type": "code",
   "execution_count": null,
   "id": "7fefaa20-1889-45da-be80-f0c95a01d814",
   "metadata": {},
   "outputs": [],
   "source": [
    "import pandas as pd\n",
    "import numpy as np\n",
    "from sklearn import linear_model\n",
    "from sklearn.ensemble import RandomForestRegressor\n",
    "from sklearn.preprocessing import MinMaxScaler\n",
    "from sklearn.metrics import mean_squared_error\n",
    "from sklearn.model_selection import train_test_split\n",
    "from sklearn.metrics import mean_absolute_error\n",
    "from math import sqrt\n",
    "import random"
   ]
  },
  {
   "cell_type": "code",
   "execution_count": null,
   "id": "4c74a204-c107-44f0-a158-f7ef459ca6aa",
   "metadata": {},
   "outputs": [],
   "source": [
    "lst_complete = [25461, 24124, 24030, 24198, 15482, 15171, 23881, 24235, 23743,  \n",
    "              25169, 23875, 15441, 24007, 25569, 23754, 24192, 24041, 15530, \n",
    "              24109, 23768, 23883, 23921, 23769, 23889, 15110, 15373, 18001,  \n",
    "              15242, 24224, 23917, 25208, 24243, 25557, 15273, 23770, 23884,\n",
    "              24350, 23926, 23893, 15044, 23961, 24227, 23935, 23737, 23906,  \n",
    "              23982, 24121, 23909, 17984, 25498, 23738, 23985, 15170, 14995, \n",
    "              15115, 15510, 24127, 25175, 25170, 15419, 24324, 24197, 25163, \n",
    "              23955, 23740, 24348, 15205, 24343, 23837, 24206, 24079, 23872,\n",
    "              23871, 15208, 23756, 15729, 23829, 25502, 15280, 24196, 23914,\n",
    "              24470, 25235, 15270, 25172, 23745, 23899, 15304, 24203, 23984,  \n",
    "              15335, 15448, 15052, 15159, 24467, 24225, 15405, 25174, 25171,  \n",
    "              24213, 23822, 23876, 24232, 25197, 23988, 14981, 23753, 25180,\n",
    "              24039, 23800, 24204, 24248, 23913, 25250, 25178, 24212, 23833, \n",
    "              15024, 25167, 15382, 10599, 24125, 23995, 15187, 25201, 25227,\n",
    "              23900, 25203, 24223, 23953, 15209, 25275, 23981, 25176, 15462,\n",
    "              24120, 23924, 15173, 23936, 24349, 23915, 15363, 15277, 24226,  \n",
    "              23878, 15258, 24081, 24207, 23919, 15445, 25189, 15484, 24612,   \n",
    "              24249, 15444, 25207, 23767, 24033, 23898, 15588, 24071, 24122,\n",
    "              24087, 25278, 25547, 24346, 24199, 25504, 25164, 24040, 23785, \n",
    "              24185, 23787, 25522, 24461, 15051, 24193, 24167, 15151, 23867,\n",
    "              24246, 15031, 15241, 24083, 23897, 23983, 24195, 23778]\n",
    "random.Random(7).shuffle(lst_complete)\n",
    "lst_train = lst_complete[:169]\n",
    "lst_test = lst_complete[169:]"
   ]
  },
  {
   "cell_type": "code",
   "execution_count": null,
   "id": "ddddf2aa-900f-406e-bca8-9488e72c8434",
   "metadata": {},
   "outputs": [],
   "source": [
    "columns_sort =['Age', 'battery', 'duration', 'Workday', 'hour',\n",
    "               'time_since_last_app', 'Gender_Female', 'Gender_Male',\n",
    "               'Gender_Other', 'Gender_unknown', 'notification_False',\n",
    "               'notification_True', 'AppCategory_Art & Design',\n",
    "               'AppCategory_Auto & Vehicles', 'AppCategory_Beauty',\n",
    "               'AppCategory_Books & Reference', 'AppCategory_Business',\n",
    "               'AppCategory_Comics', 'AppCategory_Communication', 'AppCategory_Dating',\n",
    "               'AppCategory_Education', 'AppCategory_Entertainment',\n",
    "               'AppCategory_Events', 'AppCategory_Finance', 'AppCategory_Food & Drink',\n",
    "               'AppCategory_Gaming', 'AppCategory_Health & Fitness',\n",
    "               'AppCategory_House & Home', 'AppCategory_Lifestyle',\n",
    "               'AppCategory_Maps & Navigation', 'AppCategory_Medical',\n",
    "               'AppCategory_Music & Audio', 'AppCategory_News & Magazines',\n",
    "               'AppCategory_Parenting', 'AppCategory_Personalization',\n",
    "               'AppCategory_Photography', 'AppCategory_Productivity',\n",
    "               'AppCategory_Shopping', 'AppCategory_Social', 'AppCategory_Sports',\n",
    "               'AppCategory_Tools', 'AppCategory_Travel & Local',\n",
    "               'AppCategory_Video Players & Editors', 'AppCategory_Weather',\n",
    "               'AppCategory_x', 'Weekday_0', 'Weekday_1', 'Weekday_2', 'Weekday_3',\n",
    "               'Weekday_4', 'Weekday_5', 'Weekday_6', 'DayTime_Evening',\n",
    "               'DayTime_Morning', 'DayTime_Night', 'DayTime_Noon', 'remainingMin']"
   ]
  },
  {
   "cell_type": "code",
   "execution_count": null,
   "id": "b23c9d7b-f04f-43ff-91a9-ed44dbf1fa0f",
   "metadata": {},
   "outputs": [],
   "source": [
    "df_all = pd.read_pickle('Users_prepped/All/all_onehot')\n",
    "df_train = df_all.loc[df_all['UserID'].isin(lst_train)][columns_sort]\n",
    "df_test = df_all.loc[df_all['UserID'].isin(lst_test)][columns_sort]\n",
    "df_all = 0"
   ]
  },
  {
   "cell_type": "code",
   "execution_count": null,
   "id": "04241fa6-ac64-4bf4-b54d-7b6770a07845",
   "metadata": {},
   "outputs": [],
   "source": [
    "ds_train = df_train.values\n",
    "ds_train = ds_train.astype('float32')\n",
    "#Scale Features\n",
    "scaler = MinMaxScaler(feature_range=(0, 1))\n",
    "arrX = ds_train[:, :-1]\n",
    "arrY = ds_train[:, -1]\n",
    "arrY = arrY.reshape(arrY.shape[0], 1)\n",
    "arrX = scaler.fit_transform(arrX)\n",
    "ds_train = np.concatenate((arrX, arrY), axis = 1)\n",
    "\n",
    "\n",
    "ds_test = df_test.values\n",
    "ds_test = ds_test.astype('float32')\n",
    "#Scale Features\n",
    "scaler = MinMaxScaler(feature_range=(0, 1))\n",
    "arrX = ds_test[:, :-1]\n",
    "arrY = ds_test[:, -1]\n",
    "arrY = arrY.reshape(arrY.shape[0], 1)\n",
    "arrX = scaler.fit_transform(arrX)\n",
    "ds_test = np.concatenate((arrX, arrY), axis = 1)\n",
    "\n",
    "df_train, df_val, df_test = 0,0,0"
   ]
  },
  {
   "cell_type": "code",
   "execution_count": null,
   "id": "b59c21c6-6ae1-44db-a671-a91daa50e1b5",
   "metadata": {},
   "outputs": [],
   "source": [
    "np.random.shuffle(ds_train)\n",
    "np.random.shuffle(ds_test)"
   ]
  },
  {
   "cell_type": "code",
   "execution_count": null,
   "id": "d31d79dd-b927-450c-ba1f-b8c8e2fa7970",
   "metadata": {},
   "outputs": [],
   "source": [
    "trainX = ds_train[:, :-1]\n",
    "trainY = ds_train[:, -1]\n",
    "testX = ds_test[:, :-1]\n",
    "testY = ds_test[:, -1]"
   ]
  },
  {
   "cell_type": "code",
   "execution_count": null,
   "id": "afa79fdf-59c0-4859-bc26-f946ddb6d0ba",
   "metadata": {},
   "outputs": [],
   "source": [
    "reg = linear_model.LinearRegression()\n",
    "reg.fit(trainX, trainY)\n",
    "predY = reg.predict(testX)\n",
    "predY_train = reg.predict(trainX)\n",
    "train_rmse = mean_squared_error(trainY, predY_train, squared = False)\n",
    "rmse = mean_squared_error(testY, predY, squared = False)\n",
    "mae = mean_absolute_error(testY, predY)\n",
    "print(train_rmse, rmse, mae)"
   ]
  },
  {
   "cell_type": "code",
   "execution_count": null,
   "id": "010a86c1-b96c-43fe-a83a-ddaed03e79c7",
   "metadata": {},
   "outputs": [],
   "source": [
    "rf = RandomForestRegressor(max_depth = 100, random_state = 7)\n",
    "rf.fit(trainX, trainY)\n",
    "predY = rf.predict(testX)\n",
    "predY_train = rf.predict(trainX)\n",
    "train_rmse = mean_squared_error(trainY, predY_train, squared = False)\n",
    "rmse = mean_squared_error(testY, predY, squared = False)\n",
    "mae = mean_absolute_error(testY, predY)\n",
    "print(train_rmse, rmse, mae)"
   ]
  }
 ],
 "metadata": {
  "kernelspec": {
   "display_name": "Python 3 (ipykernel)",
   "language": "python",
   "name": "python3"
  },
  "language_info": {
   "codemirror_mode": {
    "name": "ipython",
    "version": 3
   },
   "file_extension": ".py",
   "mimetype": "text/x-python",
   "name": "python",
   "nbconvert_exporter": "python",
   "pygments_lexer": "ipython3",
   "version": "3.8.10"
  }
 },
 "nbformat": 4,
 "nbformat_minor": 5
}
